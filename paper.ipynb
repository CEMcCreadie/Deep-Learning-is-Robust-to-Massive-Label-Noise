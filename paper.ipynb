{
  "cells": [
    {
      "cell_type": "code",
      "execution_count": 56,
      "metadata": {
        "id": "MSIc37sVRd-G"
      },
      "outputs": [],
      "source": [
        "import torch\n",
        "import torchvision\n",
        "import torch.nn as nn\n",
        "import torch.nn.functional as F\n",
        "import numpy as np\n",
        "import plotly.express as px\n",
        "import plotly.graph_objects as go\n",
        "from plotly.subplots import make_subplots"
      ]
    },
    {
      "cell_type": "markdown",
      "metadata": {
        "id": "DljoANWURd-I"
      },
      "source": [
        "<h2>CNN-4 Model</h2>\n",
        "\n",
        "Tradeoff between getting High performing model and trying to keep it as 'natural' as possible to make analysis later easier."
      ]
    },
    {
      "cell_type": "code",
      "execution_count": 57,
      "metadata": {
        "id": "0hwEYon4Rd-J"
      },
      "outputs": [],
      "source": [
        "class CNN4(nn.Module):\n",
        "\n",
        "    def __init__(self) -> None:\n",
        "        super().__init__()\n",
        "        self.num_conv = 32\n",
        "        self.conv_layers = nn.Sequential(\n",
        "         nn.Conv2d(1,self.num_conv, kernel_size=3, stride=1, padding=1, bias = False),\n",
        "         nn.MaxPool2d(2,2),\n",
        "         nn.Conv2d(self.num_conv,self.num_conv, kernel_size=3, stride=1, padding=1, bias = False),\n",
        "         nn.Conv2d(self.num_conv,self.num_conv, kernel_size=3, stride=1, padding=1, bias = False),\n",
        "         nn.MaxPool2d(2,2),\n",
        "         nn.Conv2d(self.num_conv,self.num_conv, kernel_size=3, stride=1, padding=1, bias = False),\n",
        "        )\n",
        "        # 28 * 28 (Image) * num_conv * (0.5^(number of max pools*n_dim))\n",
        "        self.final_image_size = 7 * 7 * self.num_conv \n",
        "        self.fc1 = nn.Linear(self.final_image_size, 64)\n",
        "        self.fc2 = nn.Linear(64, 10)\n",
        "\n",
        "    def forward(self, x):\n",
        "        x = self.conv_layers(x)\n",
        "        x = x.view(-1, self.final_image_size) \n",
        "        x = F.gelu(self.fc1(x))\n",
        "        x = F.gelu(self.fc2(x))\n",
        "        return x "
      ]
    },
    {
      "cell_type": "code",
      "execution_count": 58,
      "metadata": {
        "id": "oH1gbwMLRd-J"
      },
      "outputs": [],
      "source": [
        "BATCH_SIZE = 32\n",
        "t = torchvision.transforms.Compose([\n",
        "                       torchvision.transforms.ToTensor(),\n",
        "                       torchvision.transforms.Normalize(mean=(0), std=(1))]\n",
        "                       ) \n",
        "train_data, validation_data = torch.utils.data.random_split(torchvision.datasets.MNIST('/data/mnist', download=True, train=True, transform=t),[50000,10000])\n",
        "#Can be used to speed up training \n",
        "# train_data_sub = torch.utils.data.Subset(train_data, range(0,128))\n",
        "train_loader = torch.utils.data.DataLoader( train_data, \n",
        "                batch_size=BATCH_SIZE, drop_last=True, shuffle=True)\n",
        "validation_loader = torch.utils.data.DataLoader( validation_data, \n",
        "                batch_size=BATCH_SIZE, drop_last=True, shuffle=True)\n",
        "test_loader = torch.utils.data.DataLoader( torchvision.datasets.MNIST('/data/mnist', download=True, train=False, transform=t), \n",
        "                batch_size=BATCH_SIZE, drop_last=True, shuffle=True)"
      ]
    },
    {
      "cell_type": "markdown",
      "metadata": {
        "id": "XZt-X0v3Rd-K"
      },
      "source": [
        "<h2>Training</h2>"
      ]
    },
    {
      "cell_type": "code",
      "execution_count": 59,
      "metadata": {
        "colab": {
          "base_uri": "https://localhost:8080/"
        },
        "id": "lDsPCeeWTeKw",
        "outputId": "f19c9c1c-59f1-4162-f9ac-9d871609bf83"
      },
      "outputs": [
        {
          "name": "stdout",
          "output_type": "stream",
          "text": [
            "1\n",
            "NVIDIA GeForce GTX 1080\n"
          ]
        }
      ],
      "source": [
        "print(torch.cuda.device_count())\n",
        "print(torch.cuda.get_device_name(0))"
      ]
    },
    {
      "cell_type": "code",
      "execution_count": 60,
      "metadata": {
        "id": "qlLjK2kQSmjn"
      },
      "outputs": [],
      "source": [
        "LEARNING_RATE = 1e-4\n",
        "device = torch.device(\"cuda:0\")\n",
        "loss_fn = nn.CrossEntropyLoss()\n",
        "\n",
        "def training_loop(model, n_epochs, data_loader):\n",
        "    optimizer = torch.optim.Adam(model.parameters(),lr=LEARNING_RATE)\n",
        "    training_loss = []\n",
        "    validation_loss = []\n",
        "    for epoch in range(n_epochs): \n",
        "        model.train()\n",
        "        running_loss = 0.0\n",
        "        for i, data in enumerate(data_loader, 0):\n",
        "            # get the inputs; data is a list of [inputs, labels]\n",
        "            inputs, labels = data[0].to(device), data[1].to(device)\n",
        "    \n",
        "            # zero the parameter gradients\n",
        "            optimizer.zero_grad()\n",
        "    \n",
        "            # forward + backward + optimize\n",
        "            outputs = model(inputs)\n",
        "            loss = loss_fn(outputs, labels)\n",
        "            loss.backward()\n",
        "            optimizer.step()\n",
        "    \n",
        "            # print statistics\n",
        "            running_loss += loss.item()\n",
        "\n",
        "        training_loss.append(running_loss/len(data_loader))\n",
        "        running_loss = 0.0\n",
        "        model.eval()\n",
        "        with torch.no_grad():\n",
        "            for i, data in enumerate(validation_loader, 0):\n",
        "                # get the inputs; data is a list of [inputs, labels]\n",
        "                inputs, labels = data[0].to(device), data[1].to(device)\n",
        "        \n",
        "                outputs = model(inputs)\n",
        "                loss = loss_fn(outputs, labels)\n",
        "                # print statistics\n",
        "                running_loss += loss.item()\n",
        "        validation_loss.append(running_loss/len(validation_loader))\n",
        "        \n",
        "    print('Finished Training')\n",
        "    return training_loss, validation_loss\n",
        "\n",
        "def model_eval(model):\n",
        "    correct = 0\n",
        "    total = 0\n",
        "    # since we're not training, we don't need to calculate the gradients for our outputs\n",
        "    with torch.no_grad():\n",
        "        for data in test_loader:\n",
        "            inputs, labels = data[0].to(device), data[1].to(device)\n",
        "            outputs = model(inputs)\n",
        "            _, predicted = torch.max(outputs.data, 1)\n",
        "            total += labels.size(0)\n",
        "            correct += (predicted == labels).sum().item()\n",
        "    \n",
        "    print(f'Accuracy of the network on the 10000 test images: {100 * correct // total} %')\n",
        "    return 100 * correct // total"
      ]
    },
    {
      "cell_type": "markdown",
      "metadata": {
        "id": "W4mF_Bg9Rd-L"
      },
      "source": [
        "<h2>Changing labels</h2>"
      ]
    },
    {
      "cell_type": "code",
      "execution_count": 61,
      "metadata": {
        "id": "SN6-YYUORd-L"
      },
      "outputs": [],
      "source": [
        "import copy\n",
        "\n",
        "# noise = 0.99 #Roughly 100 noisy labels for every one 'good label'\n",
        "def generate_noise(noise=0.99):\n",
        "  noise_labels = np.array(train_data.dataset.targets) # Torch Subset.dataset \n",
        "  for (i, label) in enumerate(noise_labels):\n",
        "    if(np.random.uniform() <= noise):\n",
        "      noise_labels[i] = np.round(np.random.uniform(0, 9.0))\n",
        "  \n",
        "  noise_labels = torch.from_numpy(noise_labels)\n",
        "  \n",
        "  train_data_noise = copy.deepcopy(train_data)\n",
        "  train_data_noise.dataset.targets = noise_labels\n",
        "  train_loader_noise = torch.utils.data.DataLoader( train_data_noise, \n",
        "                  batch_size=BATCH_SIZE, drop_last=True, shuffle=True)\n",
        "  \n",
        "  print(train_data.dataset.targets)\n",
        "  print(train_data_noise.dataset.targets)\n",
        "  return train_loader_noise"
      ]
    },
    {
      "cell_type": "markdown",
      "metadata": {
        "id": "A4xcUxg8T1DV"
      },
      "source": [
        "<h1>Experiment</h1>\n"
      ]
    },
    {
      "cell_type": "code",
      "execution_count": 62,
      "metadata": {},
      "outputs": [],
      "source": [
        "TRAINING_RUNS = 50"
      ]
    },
    {
      "cell_type": "code",
      "execution_count": 63,
      "metadata": {
        "colab": {
          "base_uri": "https://localhost:8080/",
          "height": 321
        },
        "id": "o6Ol_vAiT0bh",
        "outputId": "44edc1df-e1f4-4c21-87f2-9d6994ded2ea"
      },
      "outputs": [
        {
          "name": "stdout",
          "output_type": "stream",
          "text": [
            "Finished Training\n",
            "Accuracy of the network on the 10000 test images: 98 %\n"
          ]
        },
        {
          "data": {
            "text/plain": [
              "98"
            ]
          },
          "execution_count": 63,
          "metadata": {},
          "output_type": "execute_result"
        }
      ],
      "source": [
        "model = CNN4().to(device)\n",
        "training_loss,validation_loss = training_loop(model, TRAINING_RUNS, train_loader) #Model is updated inplace\n",
        "model_eval(model)"
      ]
    },
    {
      "cell_type": "code",
      "execution_count": 64,
      "metadata": {},
      "outputs": [
        {
          "data": {
            "application/vnd.plotly.v1+json": {
              "config": {
                "plotlyServerURL": "https://plot.ly"
              },
              "data": [
                {
                  "name": "Training Loss",
                  "type": "scatter",
                  "x": [
                    0,
                    1,
                    2,
                    3,
                    4,
                    5,
                    6,
                    7,
                    8,
                    9,
                    10,
                    11,
                    12,
                    13,
                    14,
                    15,
                    16,
                    17,
                    18,
                    19,
                    20,
                    21,
                    22,
                    23,
                    24,
                    25,
                    26,
                    27,
                    28,
                    29,
                    30,
                    31,
                    32,
                    33,
                    34,
                    35,
                    36,
                    37,
                    38,
                    39,
                    40,
                    41,
                    42,
                    43,
                    44,
                    45,
                    46,
                    47,
                    48,
                    49
                  ],
                  "y": [
                    0.39777250573511275,
                    0.1189350520112169,
                    0.07678010639480867,
                    0.06042352801984207,
                    0.04861179681927253,
                    0.041776840997454844,
                    0.035938805463667865,
                    0.03161717304663563,
                    0.0280841766952959,
                    0.025195136094166355,
                    0.022416221321386303,
                    0.019897011532851717,
                    0.01730049328537353,
                    0.01569495695419044,
                    0.015245511751999065,
                    0.013662587371938702,
                    0.011089256790981621,
                    0.010648867453307046,
                    0.010539486814702558,
                    0.00952849887949029,
                    0.007962573680184763,
                    0.007741871563447824,
                    0.007140781595049896,
                    0.0064023492924222885,
                    0.005022441069616667,
                    0.006743683123526783,
                    0.006571150302513235,
                    0.0046206211188755154,
                    0.00499265053440018,
                    0.004901872582061445,
                    0.004636786234224904,
                    0.003675848272018623,
                    0.0034558412403631507,
                    0.004309663360107798,
                    0.004410236621481692,
                    0.0033269492612144373,
                    0.0031058342026646446,
                    0.003724041415112596,
                    0.003623895817820258,
                    0.002697152826278731,
                    0.003231861636113813,
                    0.0025119819594227513,
                    0.0031150849983454447,
                    0.002220922889122013,
                    0.0032213259172756276,
                    0.0037260757138082388,
                    0.002918178505090258,
                    0.002425401286989934,
                    0.0015502078482887657,
                    0.003279729677225991
                  ]
                },
                {
                  "name": "Validation Loss",
                  "type": "scatter",
                  "x": [
                    0,
                    1,
                    2,
                    3,
                    4,
                    5,
                    6,
                    7,
                    8,
                    9,
                    10,
                    11,
                    12,
                    13,
                    14,
                    15,
                    16,
                    17,
                    18,
                    19,
                    20,
                    21,
                    22,
                    23,
                    24,
                    25,
                    26,
                    27,
                    28,
                    29,
                    30,
                    31,
                    32,
                    33,
                    34,
                    35,
                    36,
                    37,
                    38,
                    39,
                    40,
                    41,
                    42,
                    43,
                    44,
                    45,
                    46,
                    47,
                    48,
                    49
                  ],
                  "y": [
                    0.15089577885392386,
                    0.08971594410608165,
                    0.06187158243175453,
                    0.05431538160505275,
                    0.04558667399284717,
                    0.043078801933006616,
                    0.03687134114135496,
                    0.040662520462016495,
                    0.036892246829572685,
                    0.04837149533667775,
                    0.040035381691315056,
                    0.03890131041450728,
                    0.04144727264802219,
                    0.047630149159512934,
                    0.03721757685657277,
                    0.040012799980232584,
                    0.038220006898917254,
                    0.0410980173923212,
                    0.03960460001596216,
                    0.04084975445363899,
                    0.03993772073965173,
                    0.04202675552720592,
                    0.041262301734763494,
                    0.043070637882865324,
                    0.04888882018298409,
                    0.045527492431805795,
                    0.04220825999777516,
                    0.04952427942975081,
                    0.04533791127378187,
                    0.047701825173575636,
                    0.041636932581105505,
                    0.05517970767949149,
                    0.04800395200916031,
                    0.04890564199558113,
                    0.053399428311670986,
                    0.06121570386729163,
                    0.05766569046395658,
                    0.05858333447725,
                    0.054224565292533895,
                    0.057486066602558075,
                    0.065458750929751,
                    0.05705556229582663,
                    0.06007531132119653,
                    0.0631580316555931,
                    0.06391204795483456,
                    0.060039188156407464,
                    0.060854707691376894,
                    0.055997001221303806,
                    0.07741388723224497,
                    0.0686392041341535
                  ]
                }
              ],
              "layout": {
                "template": {
                  "data": {
                    "bar": [
                      {
                        "error_x": {
                          "color": "#2a3f5f"
                        },
                        "error_y": {
                          "color": "#2a3f5f"
                        },
                        "marker": {
                          "line": {
                            "color": "#E5ECF6",
                            "width": 0.5
                          },
                          "pattern": {
                            "fillmode": "overlay",
                            "size": 10,
                            "solidity": 0.2
                          }
                        },
                        "type": "bar"
                      }
                    ],
                    "barpolar": [
                      {
                        "marker": {
                          "line": {
                            "color": "#E5ECF6",
                            "width": 0.5
                          },
                          "pattern": {
                            "fillmode": "overlay",
                            "size": 10,
                            "solidity": 0.2
                          }
                        },
                        "type": "barpolar"
                      }
                    ],
                    "carpet": [
                      {
                        "aaxis": {
                          "endlinecolor": "#2a3f5f",
                          "gridcolor": "white",
                          "linecolor": "white",
                          "minorgridcolor": "white",
                          "startlinecolor": "#2a3f5f"
                        },
                        "baxis": {
                          "endlinecolor": "#2a3f5f",
                          "gridcolor": "white",
                          "linecolor": "white",
                          "minorgridcolor": "white",
                          "startlinecolor": "#2a3f5f"
                        },
                        "type": "carpet"
                      }
                    ],
                    "choropleth": [
                      {
                        "colorbar": {
                          "outlinewidth": 0,
                          "ticks": ""
                        },
                        "type": "choropleth"
                      }
                    ],
                    "contour": [
                      {
                        "colorbar": {
                          "outlinewidth": 0,
                          "ticks": ""
                        },
                        "colorscale": [
                          [
                            0,
                            "#0d0887"
                          ],
                          [
                            0.1111111111111111,
                            "#46039f"
                          ],
                          [
                            0.2222222222222222,
                            "#7201a8"
                          ],
                          [
                            0.3333333333333333,
                            "#9c179e"
                          ],
                          [
                            0.4444444444444444,
                            "#bd3786"
                          ],
                          [
                            0.5555555555555556,
                            "#d8576b"
                          ],
                          [
                            0.6666666666666666,
                            "#ed7953"
                          ],
                          [
                            0.7777777777777778,
                            "#fb9f3a"
                          ],
                          [
                            0.8888888888888888,
                            "#fdca26"
                          ],
                          [
                            1,
                            "#f0f921"
                          ]
                        ],
                        "type": "contour"
                      }
                    ],
                    "contourcarpet": [
                      {
                        "colorbar": {
                          "outlinewidth": 0,
                          "ticks": ""
                        },
                        "type": "contourcarpet"
                      }
                    ],
                    "heatmap": [
                      {
                        "colorbar": {
                          "outlinewidth": 0,
                          "ticks": ""
                        },
                        "colorscale": [
                          [
                            0,
                            "#0d0887"
                          ],
                          [
                            0.1111111111111111,
                            "#46039f"
                          ],
                          [
                            0.2222222222222222,
                            "#7201a8"
                          ],
                          [
                            0.3333333333333333,
                            "#9c179e"
                          ],
                          [
                            0.4444444444444444,
                            "#bd3786"
                          ],
                          [
                            0.5555555555555556,
                            "#d8576b"
                          ],
                          [
                            0.6666666666666666,
                            "#ed7953"
                          ],
                          [
                            0.7777777777777778,
                            "#fb9f3a"
                          ],
                          [
                            0.8888888888888888,
                            "#fdca26"
                          ],
                          [
                            1,
                            "#f0f921"
                          ]
                        ],
                        "type": "heatmap"
                      }
                    ],
                    "heatmapgl": [
                      {
                        "colorbar": {
                          "outlinewidth": 0,
                          "ticks": ""
                        },
                        "colorscale": [
                          [
                            0,
                            "#0d0887"
                          ],
                          [
                            0.1111111111111111,
                            "#46039f"
                          ],
                          [
                            0.2222222222222222,
                            "#7201a8"
                          ],
                          [
                            0.3333333333333333,
                            "#9c179e"
                          ],
                          [
                            0.4444444444444444,
                            "#bd3786"
                          ],
                          [
                            0.5555555555555556,
                            "#d8576b"
                          ],
                          [
                            0.6666666666666666,
                            "#ed7953"
                          ],
                          [
                            0.7777777777777778,
                            "#fb9f3a"
                          ],
                          [
                            0.8888888888888888,
                            "#fdca26"
                          ],
                          [
                            1,
                            "#f0f921"
                          ]
                        ],
                        "type": "heatmapgl"
                      }
                    ],
                    "histogram": [
                      {
                        "marker": {
                          "pattern": {
                            "fillmode": "overlay",
                            "size": 10,
                            "solidity": 0.2
                          }
                        },
                        "type": "histogram"
                      }
                    ],
                    "histogram2d": [
                      {
                        "colorbar": {
                          "outlinewidth": 0,
                          "ticks": ""
                        },
                        "colorscale": [
                          [
                            0,
                            "#0d0887"
                          ],
                          [
                            0.1111111111111111,
                            "#46039f"
                          ],
                          [
                            0.2222222222222222,
                            "#7201a8"
                          ],
                          [
                            0.3333333333333333,
                            "#9c179e"
                          ],
                          [
                            0.4444444444444444,
                            "#bd3786"
                          ],
                          [
                            0.5555555555555556,
                            "#d8576b"
                          ],
                          [
                            0.6666666666666666,
                            "#ed7953"
                          ],
                          [
                            0.7777777777777778,
                            "#fb9f3a"
                          ],
                          [
                            0.8888888888888888,
                            "#fdca26"
                          ],
                          [
                            1,
                            "#f0f921"
                          ]
                        ],
                        "type": "histogram2d"
                      }
                    ],
                    "histogram2dcontour": [
                      {
                        "colorbar": {
                          "outlinewidth": 0,
                          "ticks": ""
                        },
                        "colorscale": [
                          [
                            0,
                            "#0d0887"
                          ],
                          [
                            0.1111111111111111,
                            "#46039f"
                          ],
                          [
                            0.2222222222222222,
                            "#7201a8"
                          ],
                          [
                            0.3333333333333333,
                            "#9c179e"
                          ],
                          [
                            0.4444444444444444,
                            "#bd3786"
                          ],
                          [
                            0.5555555555555556,
                            "#d8576b"
                          ],
                          [
                            0.6666666666666666,
                            "#ed7953"
                          ],
                          [
                            0.7777777777777778,
                            "#fb9f3a"
                          ],
                          [
                            0.8888888888888888,
                            "#fdca26"
                          ],
                          [
                            1,
                            "#f0f921"
                          ]
                        ],
                        "type": "histogram2dcontour"
                      }
                    ],
                    "mesh3d": [
                      {
                        "colorbar": {
                          "outlinewidth": 0,
                          "ticks": ""
                        },
                        "type": "mesh3d"
                      }
                    ],
                    "parcoords": [
                      {
                        "line": {
                          "colorbar": {
                            "outlinewidth": 0,
                            "ticks": ""
                          }
                        },
                        "type": "parcoords"
                      }
                    ],
                    "pie": [
                      {
                        "automargin": true,
                        "type": "pie"
                      }
                    ],
                    "scatter": [
                      {
                        "fillpattern": {
                          "fillmode": "overlay",
                          "size": 10,
                          "solidity": 0.2
                        },
                        "type": "scatter"
                      }
                    ],
                    "scatter3d": [
                      {
                        "line": {
                          "colorbar": {
                            "outlinewidth": 0,
                            "ticks": ""
                          }
                        },
                        "marker": {
                          "colorbar": {
                            "outlinewidth": 0,
                            "ticks": ""
                          }
                        },
                        "type": "scatter3d"
                      }
                    ],
                    "scattercarpet": [
                      {
                        "marker": {
                          "colorbar": {
                            "outlinewidth": 0,
                            "ticks": ""
                          }
                        },
                        "type": "scattercarpet"
                      }
                    ],
                    "scattergeo": [
                      {
                        "marker": {
                          "colorbar": {
                            "outlinewidth": 0,
                            "ticks": ""
                          }
                        },
                        "type": "scattergeo"
                      }
                    ],
                    "scattergl": [
                      {
                        "marker": {
                          "colorbar": {
                            "outlinewidth": 0,
                            "ticks": ""
                          }
                        },
                        "type": "scattergl"
                      }
                    ],
                    "scattermapbox": [
                      {
                        "marker": {
                          "colorbar": {
                            "outlinewidth": 0,
                            "ticks": ""
                          }
                        },
                        "type": "scattermapbox"
                      }
                    ],
                    "scatterpolar": [
                      {
                        "marker": {
                          "colorbar": {
                            "outlinewidth": 0,
                            "ticks": ""
                          }
                        },
                        "type": "scatterpolar"
                      }
                    ],
                    "scatterpolargl": [
                      {
                        "marker": {
                          "colorbar": {
                            "outlinewidth": 0,
                            "ticks": ""
                          }
                        },
                        "type": "scatterpolargl"
                      }
                    ],
                    "scatterternary": [
                      {
                        "marker": {
                          "colorbar": {
                            "outlinewidth": 0,
                            "ticks": ""
                          }
                        },
                        "type": "scatterternary"
                      }
                    ],
                    "surface": [
                      {
                        "colorbar": {
                          "outlinewidth": 0,
                          "ticks": ""
                        },
                        "colorscale": [
                          [
                            0,
                            "#0d0887"
                          ],
                          [
                            0.1111111111111111,
                            "#46039f"
                          ],
                          [
                            0.2222222222222222,
                            "#7201a8"
                          ],
                          [
                            0.3333333333333333,
                            "#9c179e"
                          ],
                          [
                            0.4444444444444444,
                            "#bd3786"
                          ],
                          [
                            0.5555555555555556,
                            "#d8576b"
                          ],
                          [
                            0.6666666666666666,
                            "#ed7953"
                          ],
                          [
                            0.7777777777777778,
                            "#fb9f3a"
                          ],
                          [
                            0.8888888888888888,
                            "#fdca26"
                          ],
                          [
                            1,
                            "#f0f921"
                          ]
                        ],
                        "type": "surface"
                      }
                    ],
                    "table": [
                      {
                        "cells": {
                          "fill": {
                            "color": "#EBF0F8"
                          },
                          "line": {
                            "color": "white"
                          }
                        },
                        "header": {
                          "fill": {
                            "color": "#C8D4E3"
                          },
                          "line": {
                            "color": "white"
                          }
                        },
                        "type": "table"
                      }
                    ]
                  },
                  "layout": {
                    "annotationdefaults": {
                      "arrowcolor": "#2a3f5f",
                      "arrowhead": 0,
                      "arrowwidth": 1
                    },
                    "autotypenumbers": "strict",
                    "coloraxis": {
                      "colorbar": {
                        "outlinewidth": 0,
                        "ticks": ""
                      }
                    },
                    "colorscale": {
                      "diverging": [
                        [
                          0,
                          "#8e0152"
                        ],
                        [
                          0.1,
                          "#c51b7d"
                        ],
                        [
                          0.2,
                          "#de77ae"
                        ],
                        [
                          0.3,
                          "#f1b6da"
                        ],
                        [
                          0.4,
                          "#fde0ef"
                        ],
                        [
                          0.5,
                          "#f7f7f7"
                        ],
                        [
                          0.6,
                          "#e6f5d0"
                        ],
                        [
                          0.7,
                          "#b8e186"
                        ],
                        [
                          0.8,
                          "#7fbc41"
                        ],
                        [
                          0.9,
                          "#4d9221"
                        ],
                        [
                          1,
                          "#276419"
                        ]
                      ],
                      "sequential": [
                        [
                          0,
                          "#0d0887"
                        ],
                        [
                          0.1111111111111111,
                          "#46039f"
                        ],
                        [
                          0.2222222222222222,
                          "#7201a8"
                        ],
                        [
                          0.3333333333333333,
                          "#9c179e"
                        ],
                        [
                          0.4444444444444444,
                          "#bd3786"
                        ],
                        [
                          0.5555555555555556,
                          "#d8576b"
                        ],
                        [
                          0.6666666666666666,
                          "#ed7953"
                        ],
                        [
                          0.7777777777777778,
                          "#fb9f3a"
                        ],
                        [
                          0.8888888888888888,
                          "#fdca26"
                        ],
                        [
                          1,
                          "#f0f921"
                        ]
                      ],
                      "sequentialminus": [
                        [
                          0,
                          "#0d0887"
                        ],
                        [
                          0.1111111111111111,
                          "#46039f"
                        ],
                        [
                          0.2222222222222222,
                          "#7201a8"
                        ],
                        [
                          0.3333333333333333,
                          "#9c179e"
                        ],
                        [
                          0.4444444444444444,
                          "#bd3786"
                        ],
                        [
                          0.5555555555555556,
                          "#d8576b"
                        ],
                        [
                          0.6666666666666666,
                          "#ed7953"
                        ],
                        [
                          0.7777777777777778,
                          "#fb9f3a"
                        ],
                        [
                          0.8888888888888888,
                          "#fdca26"
                        ],
                        [
                          1,
                          "#f0f921"
                        ]
                      ]
                    },
                    "colorway": [
                      "#636efa",
                      "#EF553B",
                      "#00cc96",
                      "#ab63fa",
                      "#FFA15A",
                      "#19d3f3",
                      "#FF6692",
                      "#B6E880",
                      "#FF97FF",
                      "#FECB52"
                    ],
                    "font": {
                      "color": "#2a3f5f"
                    },
                    "geo": {
                      "bgcolor": "white",
                      "lakecolor": "white",
                      "landcolor": "#E5ECF6",
                      "showlakes": true,
                      "showland": true,
                      "subunitcolor": "white"
                    },
                    "hoverlabel": {
                      "align": "left"
                    },
                    "hovermode": "closest",
                    "mapbox": {
                      "style": "light"
                    },
                    "paper_bgcolor": "white",
                    "plot_bgcolor": "#E5ECF6",
                    "polar": {
                      "angularaxis": {
                        "gridcolor": "white",
                        "linecolor": "white",
                        "ticks": ""
                      },
                      "bgcolor": "#E5ECF6",
                      "radialaxis": {
                        "gridcolor": "white",
                        "linecolor": "white",
                        "ticks": ""
                      }
                    },
                    "scene": {
                      "xaxis": {
                        "backgroundcolor": "#E5ECF6",
                        "gridcolor": "white",
                        "gridwidth": 2,
                        "linecolor": "white",
                        "showbackground": true,
                        "ticks": "",
                        "zerolinecolor": "white"
                      },
                      "yaxis": {
                        "backgroundcolor": "#E5ECF6",
                        "gridcolor": "white",
                        "gridwidth": 2,
                        "linecolor": "white",
                        "showbackground": true,
                        "ticks": "",
                        "zerolinecolor": "white"
                      },
                      "zaxis": {
                        "backgroundcolor": "#E5ECF6",
                        "gridcolor": "white",
                        "gridwidth": 2,
                        "linecolor": "white",
                        "showbackground": true,
                        "ticks": "",
                        "zerolinecolor": "white"
                      }
                    },
                    "shapedefaults": {
                      "line": {
                        "color": "#2a3f5f"
                      }
                    },
                    "ternary": {
                      "aaxis": {
                        "gridcolor": "white",
                        "linecolor": "white",
                        "ticks": ""
                      },
                      "baxis": {
                        "gridcolor": "white",
                        "linecolor": "white",
                        "ticks": ""
                      },
                      "bgcolor": "#E5ECF6",
                      "caxis": {
                        "gridcolor": "white",
                        "linecolor": "white",
                        "ticks": ""
                      }
                    },
                    "title": {
                      "x": 0.05
                    },
                    "xaxis": {
                      "automargin": true,
                      "gridcolor": "white",
                      "linecolor": "white",
                      "ticks": "",
                      "title": {
                        "standoff": 15
                      },
                      "zerolinecolor": "white",
                      "zerolinewidth": 2
                    },
                    "yaxis": {
                      "automargin": true,
                      "gridcolor": "white",
                      "linecolor": "white",
                      "ticks": "",
                      "title": {
                        "standoff": 15
                      },
                      "zerolinecolor": "white",
                      "zerolinewidth": 2
                    }
                  }
                },
                "title": {
                  "text": "Training Loss"
                },
                "xaxis": {
                  "title": {
                    "text": "Epochs"
                  }
                },
                "yaxis": {
                  "title": {
                    "text": "Loss"
                  }
                }
              }
            }
          },
          "metadata": {},
          "output_type": "display_data"
        }
      ],
      "source": [
        "trace1 = go.Scatter(x=np.arange(TRAINING_RUNS), y=training_loss, name=\"Training Loss\")\n",
        "trace2 = go.Scatter(x=np.arange(TRAINING_RUNS), y=validation_loss, name=\"Validation Loss\")\n",
        "layout = go.Layout(title='Training Loss')\n",
        "fig = go.Figure(data=[trace1, trace2], layout=layout)\n",
        "fig.update_xaxes(title_text=\"Epochs\")\n",
        "fig.update_yaxes(title_text=\"Loss\")\n",
        "fig.show()"
      ]
    },
    {
      "cell_type": "markdown",
      "metadata": {
        "id": "CcSjGDMc24Xi"
      },
      "source": [
        "perhaps longer training time is the trick here ?"
      ]
    },
    {
      "cell_type": "code",
      "execution_count": 65,
      "metadata": {
        "colab": {
          "base_uri": "https://localhost:8080/"
        },
        "id": "mZHWY-gXbxPL",
        "outputId": "7ae818d7-0279-4d3c-e9df-491c39f8337d"
      },
      "outputs": [
        {
          "name": "stdout",
          "output_type": "stream",
          "text": [
            "tensor([5, 0, 4,  ..., 5, 6, 8])\n",
            "tensor([5, 0, 4,  ..., 5, 7, 2])\n",
            "Finished Training\n",
            "Accuracy of the network on the 10000 test images: 97 %\n",
            "tensor([5, 0, 4,  ..., 5, 6, 8])\n",
            "tensor([1, 1, 5,  ..., 5, 6, 7])\n",
            "Finished Training\n",
            "Accuracy of the network on the 10000 test images: 89 %\n",
            "tensor([5, 0, 4,  ..., 5, 6, 8])\n",
            "tensor([7, 6, 6,  ..., 1, 8, 4])\n",
            "Finished Training\n",
            "Accuracy of the network on the 10000 test images: 10 %\n"
          ]
        }
      ],
      "source": [
        "noise = [0.1, 0.5, 0.99]\n",
        "accuracy = []\n",
        "noise_training_loss_arr = []\n",
        "noise_validation_loss_arr = []\n",
        "for n in noise:\n",
        "  model_noise = CNN4().to(device)\n",
        "  noise_training_loss, noise_validation_loss = training_loop(model_noise, TRAINING_RUNS, generate_noise(n))\n",
        "  noise_training_loss_arr.append(noise_training_loss)\n",
        "  noise_validation_loss_arr.append(noise_validation_loss)\n",
        "  accuracy.append(model_eval(model_noise))\n",
        "  torch.save(model_noise, f\"modelNoise{n}.pth\")"
      ]
    },
    {
      "cell_type": "code",
      "execution_count": 66,
      "metadata": {
        "colab": {
          "base_uri": "https://localhost:8080/"
        },
        "id": "vFLoCj-r3q9c",
        "outputId": "14929fa7-d3d6-4dd2-e94c-0ee5460c76b8"
      },
      "outputs": [
        {
          "data": {
            "text/plain": [
              "[97, 89, 10]"
            ]
          },
          "execution_count": 66,
          "metadata": {},
          "output_type": "execute_result"
        }
      ],
      "source": [
        "accuracy"
      ]
    },
    {
      "cell_type": "code",
      "execution_count": 73,
      "metadata": {},
      "outputs": [
        {
          "data": {
            "application/vnd.plotly.v1+json": {
              "config": {
                "plotlyServerURL": "https://plot.ly"
              },
              "data": [
                {
                  "line": {
                    "color": "red"
                  },
                  "name": "Training Loss",
                  "type": "scatter",
                  "x": [
                    0,
                    1,
                    2,
                    3,
                    4,
                    5,
                    6,
                    7,
                    8,
                    9,
                    10,
                    11,
                    12,
                    13,
                    14,
                    15,
                    16,
                    17,
                    18,
                    19,
                    20,
                    21,
                    22,
                    23,
                    24,
                    25,
                    26,
                    27,
                    28,
                    29,
                    30,
                    31,
                    32,
                    33,
                    34,
                    35,
                    36,
                    37,
                    38,
                    39,
                    40,
                    41,
                    42,
                    43,
                    44,
                    45,
                    46,
                    47,
                    48,
                    49
                  ],
                  "xaxis": "x",
                  "y": [
                    0.8515498597990535,
                    0.6444093878649261,
                    0.6034783708950011,
                    0.5819866501496063,
                    0.5706309422602575,
                    0.5616315448091446,
                    0.554304446681628,
                    0.5487357212204329,
                    0.5430948966672875,
                    0.5380505374185598,
                    0.5335455462241142,
                    0.5294756591320038,
                    0.5255800617117048,
                    0.5227581645992898,
                    0.5181751807676998,
                    0.5149416453974195,
                    0.510959300333002,
                    0.5072600073568647,
                    0.5043505990589169,
                    0.500463272229066,
                    0.4968914879669606,
                    0.49369386381322994,
                    0.4901353349281945,
                    0.4864264947723564,
                    0.48337164437505636,
                    0.47954880855452847,
                    0.47567217850463794,
                    0.47260425075716916,
                    0.46904706315551237,
                    0.4649106941749932,
                    0.4613156454821288,
                    0.45809560147723455,
                    0.45562874706564577,
                    0.4499790914852778,
                    0.44740901036228553,
                    0.4430680951978844,
                    0.44009068478781266,
                    0.4355245146461585,
                    0.43167335010120567,
                    0.42697238759704115,
                    0.42352178388975187,
                    0.42073570833888463,
                    0.4161227742441371,
                    0.41237991987685846,
                    0.4090145757104653,
                    0.4050594529759487,
                    0.4007745197033283,
                    0.39716556733629155,
                    0.39456416768583535,
                    0.38954869112794055
                  ],
                  "yaxis": "y"
                },
                {
                  "line": {
                    "color": "green"
                  },
                  "name": "Validation Loss",
                  "type": "scatter",
                  "x": [
                    0,
                    1,
                    2,
                    3,
                    4,
                    5,
                    6,
                    7,
                    8,
                    9,
                    10,
                    11,
                    12,
                    13,
                    14,
                    15,
                    16,
                    17,
                    18,
                    19,
                    20,
                    21,
                    22,
                    23,
                    24,
                    25,
                    26,
                    27,
                    28,
                    29,
                    30,
                    31,
                    32,
                    33,
                    34,
                    35,
                    36,
                    37,
                    38,
                    39,
                    40,
                    41,
                    42,
                    43,
                    44,
                    45,
                    46,
                    47,
                    48,
                    49
                  ],
                  "xaxis": "x",
                  "y": [
                    0.26853465551558214,
                    0.21969451984533897,
                    0.18523667592746326,
                    0.15718801190646794,
                    0.17527596270426726,
                    0.15686648988570923,
                    0.16012594882303324,
                    0.18482594256504223,
                    0.1385276275089918,
                    0.1271599978208542,
                    0.1547560990573122,
                    0.11656963041959664,
                    0.13590141261617342,
                    0.14443385328810948,
                    0.1366070459763973,
                    0.15096619338370287,
                    0.16256837253100598,
                    0.13980500777371418,
                    0.12980438933636135,
                    0.12595009840786076,
                    0.13094613070671374,
                    0.14541908272374898,
                    0.13879071693055522,
                    0.1442490719879667,
                    0.12584036237631852,
                    0.12693712463936743,
                    0.14035044610500336,
                    0.14270078134126005,
                    0.1429067452151615,
                    0.12618100446147415,
                    0.14973864756906644,
                    0.14234407489689496,
                    0.1480562485014208,
                    0.16735100970627406,
                    0.14473133306138408,
                    0.16538138412989867,
                    0.14667242779754674,
                    0.1580095081948317,
                    0.15499565807672647,
                    0.1514180411154834,
                    0.14515332310484388,
                    0.13400700953430855,
                    0.18203393403345194,
                    0.1650573662482202,
                    0.15237232567503667,
                    0.15280187510861418,
                    0.1685027263055627,
                    0.1766552550252527,
                    0.17124435608872238,
                    0.1773951927988002
                  ],
                  "yaxis": "y"
                },
                {
                  "line": {
                    "color": "red"
                  },
                  "name": "Training Loss",
                  "type": "scatter",
                  "x": [
                    0,
                    1,
                    2,
                    3,
                    4,
                    5,
                    6,
                    7,
                    8,
                    9,
                    10,
                    11,
                    12,
                    13,
                    14,
                    15,
                    16,
                    17,
                    18,
                    19,
                    20,
                    21,
                    22,
                    23,
                    24,
                    25,
                    26,
                    27,
                    28,
                    29,
                    30,
                    31,
                    32,
                    33,
                    34,
                    35,
                    36,
                    37,
                    38,
                    39,
                    40,
                    41,
                    42,
                    43,
                    44,
                    45,
                    46,
                    47,
                    48,
                    49
                  ],
                  "xaxis": "x2",
                  "y": [
                    1.8513214372184303,
                    1.7602342969324158,
                    1.7380977730134386,
                    1.726725385756865,
                    1.7183243064507938,
                    1.7115040290218309,
                    1.7064679882437868,
                    1.7024539091675597,
                    1.698162809453151,
                    1.6945713474564301,
                    1.6904779116261783,
                    1.685937300610634,
                    1.6822281639340897,
                    1.6786979691396144,
                    1.6746518891996367,
                    1.6715820337837697,
                    1.6663125535895364,
                    1.6624302480956503,
                    1.6575440049324084,
                    1.6536449927755568,
                    1.6493989533712556,
                    1.6441616017595602,
                    1.6392121700028603,
                    1.635014246352656,
                    1.6296173879416438,
                    1.6252962645434235,
                    1.6194591715302267,
                    1.614001928271771,
                    1.6092438933638695,
                    1.6030179131656848,
                    1.5981726077851504,
                    1.5925194614980651,
                    1.5870432728536608,
                    1.580935711782812,
                    1.5747886272993954,
                    1.5685473943794583,
                    1.5636702072681448,
                    1.5569715449126216,
                    1.5500944103001022,
                    1.5444024276565498,
                    1.5376139972716685,
                    1.532201339317803,
                    1.5258544944846828,
                    1.5202050344892104,
                    1.5127601752131605,
                    1.5074426295967933,
                    1.5008803477436876,
                    1.4955328070247371,
                    1.488490868507671,
                    1.4832326518741368
                  ],
                  "yaxis": "y2"
                },
                {
                  "line": {
                    "color": "green"
                  },
                  "name": "Validation Loss",
                  "type": "scatter",
                  "x": [
                    0,
                    1,
                    2,
                    3,
                    4,
                    5,
                    6,
                    7,
                    8,
                    9,
                    10,
                    11,
                    12,
                    13,
                    14,
                    15,
                    16,
                    17,
                    18,
                    19,
                    20,
                    21,
                    22,
                    23,
                    24,
                    25,
                    26,
                    27,
                    28,
                    29,
                    30,
                    31,
                    32,
                    33,
                    34,
                    35,
                    36,
                    37,
                    38,
                    39,
                    40,
                    41,
                    42,
                    43,
                    44,
                    45,
                    46,
                    47,
                    48,
                    49
                  ],
                  "xaxis": "x2",
                  "y": [
                    0.8790015954619799,
                    0.7667729707482533,
                    0.7248648999211116,
                    0.7332105309917376,
                    0.6449009875456492,
                    0.7031697972844808,
                    0.7042901135790043,
                    0.7049125769199469,
                    0.7129270598674432,
                    0.7107663198541372,
                    0.6348993015977052,
                    0.7294768255490524,
                    0.6798359795640676,
                    0.6334096110210969,
                    0.6923428846475406,
                    0.6369808165308757,
                    0.6747149284451436,
                    0.6681358567797221,
                    0.6563808054496081,
                    0.6970255300402641,
                    0.6495922033030254,
                    0.6784595756385571,
                    0.6687884139708984,
                    0.7095374346543581,
                    0.6429362287506079,
                    0.6746111425260702,
                    0.6936541493886557,
                    0.6344060767919589,
                    0.6982751110425363,
                    0.7342961717110413,
                    0.6826923951888696,
                    0.6486424333774127,
                    0.6320208611014562,
                    0.7202555009951959,
                    0.6893095662578558,
                    0.6781958994957117,
                    0.6626862936103955,
                    0.7193742491877996,
                    0.6672647195175673,
                    0.745955972526318,
                    0.7238558102876712,
                    0.7680796363796943,
                    0.662159303537546,
                    0.6950081173235025,
                    0.6709959880472758,
                    0.7655800644021767,
                    0.7015754190775064,
                    0.6959693596149102,
                    0.6918211455146471,
                    0.7358777388357199
                  ],
                  "yaxis": "y2"
                },
                {
                  "line": {
                    "color": "red"
                  },
                  "name": "Training Loss",
                  "type": "scatter",
                  "x": [
                    0,
                    1,
                    2,
                    3,
                    4,
                    5,
                    6,
                    7,
                    8,
                    9,
                    10,
                    11,
                    12,
                    13,
                    14,
                    15,
                    16,
                    17,
                    18,
                    19,
                    20,
                    21,
                    22,
                    23,
                    24,
                    25,
                    26,
                    27,
                    28,
                    29,
                    30,
                    31,
                    32,
                    33,
                    34,
                    35,
                    36,
                    37,
                    38,
                    39,
                    40,
                    41,
                    42,
                    43,
                    44,
                    45,
                    46,
                    47,
                    48,
                    49
                  ],
                  "xaxis": "x3",
                  "y": [
                    2.2802130658556345,
                    2.2773602543048153,
                    2.2765734168234615,
                    2.275533885717697,
                    2.274826162145324,
                    2.2738646050574074,
                    2.2725019259581036,
                    2.2703413517618607,
                    2.2674116754043423,
                    2.263413146577022,
                    2.2578193477418145,
                    2.2516340247800195,
                    2.2440930669042123,
                    2.2355141679395025,
                    2.2264965639834826,
                    2.215837855421474,
                    2.2053708149437408,
                    2.1937112726566887,
                    2.181751308154205,
                    2.168778640588939,
                    2.1557769924211443,
                    2.1430531207486396,
                    2.1300158915843306,
                    2.116683105653135,
                    2.1037575607110535,
                    2.0906236764716124,
                    2.077161109554325,
                    2.0641028807044184,
                    2.0502681621516103,
                    2.0375331040381166,
                    2.023500846992229,
                    2.010069961737121,
                    1.9977966298977636,
                    1.9842808569439243,
                    1.9713995500960209,
                    1.9590752870416825,
                    1.946904501902767,
                    1.934265942717026,
                    1.920792196608994,
                    1.9076913370060402,
                    1.8959782300624286,
                    1.8837469839103396,
                    1.8718476853358454,
                    1.8593751144012325,
                    1.8486466168136206,
                    1.8369620632423176,
                    1.8256001438129879,
                    1.8145681781439102,
                    1.8024698352386337,
                    1.7917768914781977
                  ],
                  "yaxis": "y3"
                },
                {
                  "line": {
                    "color": "green"
                  },
                  "name": "Validation Loss",
                  "type": "scatter",
                  "x": [
                    0,
                    1,
                    2,
                    3,
                    4,
                    5,
                    6,
                    7,
                    8,
                    9,
                    10,
                    11,
                    12,
                    13,
                    14,
                    15,
                    16,
                    17,
                    18,
                    19,
                    20,
                    21,
                    22,
                    23,
                    24,
                    25,
                    26,
                    27,
                    28,
                    29,
                    30,
                    31,
                    32,
                    33,
                    34,
                    35,
                    36,
                    37,
                    38,
                    39,
                    40,
                    41,
                    42,
                    43,
                    44,
                    45,
                    46,
                    47,
                    48,
                    49
                  ],
                  "xaxis": "x3",
                  "y": [
                    2.322318676954661,
                    2.316248058508604,
                    2.311288934487563,
                    2.3091834775912456,
                    2.295965414780837,
                    2.2912795077531767,
                    2.298214696920835,
                    2.2855273294143186,
                    2.284382850695879,
                    2.269035972081698,
                    2.2741018816446648,
                    2.2668602229693,
                    2.292462164774919,
                    2.28708155414997,
                    2.2938697024797783,
                    2.305031705361146,
                    2.306285720605117,
                    2.3538444454853353,
                    2.3381069868038864,
                    2.347108293038148,
                    2.3705991544784646,
                    2.396497041751177,
                    2.3610764837417846,
                    2.3754111849344692,
                    2.403393504711298,
                    2.380575724137135,
                    2.410304150520227,
                    2.4649736147660475,
                    2.4327654257798805,
                    2.466430908594376,
                    2.4697011288924093,
                    2.499030128503457,
                    2.4733037589452205,
                    2.4462172427238564,
                    2.4823222351379886,
                    2.5125873432709622,
                    2.5290366342434516,
                    2.4784527077124667,
                    2.5539527718837443,
                    2.5742338185126963,
                    2.554358128553782,
                    2.5626614773884797,
                    2.614202957886916,
                    2.604773215758495,
                    2.645243819707479,
                    2.624106390353961,
                    2.6622575659018297,
                    2.6656256111768575,
                    2.652938723564148,
                    2.6591969522146077
                  ],
                  "yaxis": "y3"
                }
              ],
              "layout": {
                "template": {
                  "data": {
                    "bar": [
                      {
                        "error_x": {
                          "color": "#2a3f5f"
                        },
                        "error_y": {
                          "color": "#2a3f5f"
                        },
                        "marker": {
                          "line": {
                            "color": "#E5ECF6",
                            "width": 0.5
                          },
                          "pattern": {
                            "fillmode": "overlay",
                            "size": 10,
                            "solidity": 0.2
                          }
                        },
                        "type": "bar"
                      }
                    ],
                    "barpolar": [
                      {
                        "marker": {
                          "line": {
                            "color": "#E5ECF6",
                            "width": 0.5
                          },
                          "pattern": {
                            "fillmode": "overlay",
                            "size": 10,
                            "solidity": 0.2
                          }
                        },
                        "type": "barpolar"
                      }
                    ],
                    "carpet": [
                      {
                        "aaxis": {
                          "endlinecolor": "#2a3f5f",
                          "gridcolor": "white",
                          "linecolor": "white",
                          "minorgridcolor": "white",
                          "startlinecolor": "#2a3f5f"
                        },
                        "baxis": {
                          "endlinecolor": "#2a3f5f",
                          "gridcolor": "white",
                          "linecolor": "white",
                          "minorgridcolor": "white",
                          "startlinecolor": "#2a3f5f"
                        },
                        "type": "carpet"
                      }
                    ],
                    "choropleth": [
                      {
                        "colorbar": {
                          "outlinewidth": 0,
                          "ticks": ""
                        },
                        "type": "choropleth"
                      }
                    ],
                    "contour": [
                      {
                        "colorbar": {
                          "outlinewidth": 0,
                          "ticks": ""
                        },
                        "colorscale": [
                          [
                            0,
                            "#0d0887"
                          ],
                          [
                            0.1111111111111111,
                            "#46039f"
                          ],
                          [
                            0.2222222222222222,
                            "#7201a8"
                          ],
                          [
                            0.3333333333333333,
                            "#9c179e"
                          ],
                          [
                            0.4444444444444444,
                            "#bd3786"
                          ],
                          [
                            0.5555555555555556,
                            "#d8576b"
                          ],
                          [
                            0.6666666666666666,
                            "#ed7953"
                          ],
                          [
                            0.7777777777777778,
                            "#fb9f3a"
                          ],
                          [
                            0.8888888888888888,
                            "#fdca26"
                          ],
                          [
                            1,
                            "#f0f921"
                          ]
                        ],
                        "type": "contour"
                      }
                    ],
                    "contourcarpet": [
                      {
                        "colorbar": {
                          "outlinewidth": 0,
                          "ticks": ""
                        },
                        "type": "contourcarpet"
                      }
                    ],
                    "heatmap": [
                      {
                        "colorbar": {
                          "outlinewidth": 0,
                          "ticks": ""
                        },
                        "colorscale": [
                          [
                            0,
                            "#0d0887"
                          ],
                          [
                            0.1111111111111111,
                            "#46039f"
                          ],
                          [
                            0.2222222222222222,
                            "#7201a8"
                          ],
                          [
                            0.3333333333333333,
                            "#9c179e"
                          ],
                          [
                            0.4444444444444444,
                            "#bd3786"
                          ],
                          [
                            0.5555555555555556,
                            "#d8576b"
                          ],
                          [
                            0.6666666666666666,
                            "#ed7953"
                          ],
                          [
                            0.7777777777777778,
                            "#fb9f3a"
                          ],
                          [
                            0.8888888888888888,
                            "#fdca26"
                          ],
                          [
                            1,
                            "#f0f921"
                          ]
                        ],
                        "type": "heatmap"
                      }
                    ],
                    "heatmapgl": [
                      {
                        "colorbar": {
                          "outlinewidth": 0,
                          "ticks": ""
                        },
                        "colorscale": [
                          [
                            0,
                            "#0d0887"
                          ],
                          [
                            0.1111111111111111,
                            "#46039f"
                          ],
                          [
                            0.2222222222222222,
                            "#7201a8"
                          ],
                          [
                            0.3333333333333333,
                            "#9c179e"
                          ],
                          [
                            0.4444444444444444,
                            "#bd3786"
                          ],
                          [
                            0.5555555555555556,
                            "#d8576b"
                          ],
                          [
                            0.6666666666666666,
                            "#ed7953"
                          ],
                          [
                            0.7777777777777778,
                            "#fb9f3a"
                          ],
                          [
                            0.8888888888888888,
                            "#fdca26"
                          ],
                          [
                            1,
                            "#f0f921"
                          ]
                        ],
                        "type": "heatmapgl"
                      }
                    ],
                    "histogram": [
                      {
                        "marker": {
                          "pattern": {
                            "fillmode": "overlay",
                            "size": 10,
                            "solidity": 0.2
                          }
                        },
                        "type": "histogram"
                      }
                    ],
                    "histogram2d": [
                      {
                        "colorbar": {
                          "outlinewidth": 0,
                          "ticks": ""
                        },
                        "colorscale": [
                          [
                            0,
                            "#0d0887"
                          ],
                          [
                            0.1111111111111111,
                            "#46039f"
                          ],
                          [
                            0.2222222222222222,
                            "#7201a8"
                          ],
                          [
                            0.3333333333333333,
                            "#9c179e"
                          ],
                          [
                            0.4444444444444444,
                            "#bd3786"
                          ],
                          [
                            0.5555555555555556,
                            "#d8576b"
                          ],
                          [
                            0.6666666666666666,
                            "#ed7953"
                          ],
                          [
                            0.7777777777777778,
                            "#fb9f3a"
                          ],
                          [
                            0.8888888888888888,
                            "#fdca26"
                          ],
                          [
                            1,
                            "#f0f921"
                          ]
                        ],
                        "type": "histogram2d"
                      }
                    ],
                    "histogram2dcontour": [
                      {
                        "colorbar": {
                          "outlinewidth": 0,
                          "ticks": ""
                        },
                        "colorscale": [
                          [
                            0,
                            "#0d0887"
                          ],
                          [
                            0.1111111111111111,
                            "#46039f"
                          ],
                          [
                            0.2222222222222222,
                            "#7201a8"
                          ],
                          [
                            0.3333333333333333,
                            "#9c179e"
                          ],
                          [
                            0.4444444444444444,
                            "#bd3786"
                          ],
                          [
                            0.5555555555555556,
                            "#d8576b"
                          ],
                          [
                            0.6666666666666666,
                            "#ed7953"
                          ],
                          [
                            0.7777777777777778,
                            "#fb9f3a"
                          ],
                          [
                            0.8888888888888888,
                            "#fdca26"
                          ],
                          [
                            1,
                            "#f0f921"
                          ]
                        ],
                        "type": "histogram2dcontour"
                      }
                    ],
                    "mesh3d": [
                      {
                        "colorbar": {
                          "outlinewidth": 0,
                          "ticks": ""
                        },
                        "type": "mesh3d"
                      }
                    ],
                    "parcoords": [
                      {
                        "line": {
                          "colorbar": {
                            "outlinewidth": 0,
                            "ticks": ""
                          }
                        },
                        "type": "parcoords"
                      }
                    ],
                    "pie": [
                      {
                        "automargin": true,
                        "type": "pie"
                      }
                    ],
                    "scatter": [
                      {
                        "fillpattern": {
                          "fillmode": "overlay",
                          "size": 10,
                          "solidity": 0.2
                        },
                        "type": "scatter"
                      }
                    ],
                    "scatter3d": [
                      {
                        "line": {
                          "colorbar": {
                            "outlinewidth": 0,
                            "ticks": ""
                          }
                        },
                        "marker": {
                          "colorbar": {
                            "outlinewidth": 0,
                            "ticks": ""
                          }
                        },
                        "type": "scatter3d"
                      }
                    ],
                    "scattercarpet": [
                      {
                        "marker": {
                          "colorbar": {
                            "outlinewidth": 0,
                            "ticks": ""
                          }
                        },
                        "type": "scattercarpet"
                      }
                    ],
                    "scattergeo": [
                      {
                        "marker": {
                          "colorbar": {
                            "outlinewidth": 0,
                            "ticks": ""
                          }
                        },
                        "type": "scattergeo"
                      }
                    ],
                    "scattergl": [
                      {
                        "marker": {
                          "colorbar": {
                            "outlinewidth": 0,
                            "ticks": ""
                          }
                        },
                        "type": "scattergl"
                      }
                    ],
                    "scattermapbox": [
                      {
                        "marker": {
                          "colorbar": {
                            "outlinewidth": 0,
                            "ticks": ""
                          }
                        },
                        "type": "scattermapbox"
                      }
                    ],
                    "scatterpolar": [
                      {
                        "marker": {
                          "colorbar": {
                            "outlinewidth": 0,
                            "ticks": ""
                          }
                        },
                        "type": "scatterpolar"
                      }
                    ],
                    "scatterpolargl": [
                      {
                        "marker": {
                          "colorbar": {
                            "outlinewidth": 0,
                            "ticks": ""
                          }
                        },
                        "type": "scatterpolargl"
                      }
                    ],
                    "scatterternary": [
                      {
                        "marker": {
                          "colorbar": {
                            "outlinewidth": 0,
                            "ticks": ""
                          }
                        },
                        "type": "scatterternary"
                      }
                    ],
                    "surface": [
                      {
                        "colorbar": {
                          "outlinewidth": 0,
                          "ticks": ""
                        },
                        "colorscale": [
                          [
                            0,
                            "#0d0887"
                          ],
                          [
                            0.1111111111111111,
                            "#46039f"
                          ],
                          [
                            0.2222222222222222,
                            "#7201a8"
                          ],
                          [
                            0.3333333333333333,
                            "#9c179e"
                          ],
                          [
                            0.4444444444444444,
                            "#bd3786"
                          ],
                          [
                            0.5555555555555556,
                            "#d8576b"
                          ],
                          [
                            0.6666666666666666,
                            "#ed7953"
                          ],
                          [
                            0.7777777777777778,
                            "#fb9f3a"
                          ],
                          [
                            0.8888888888888888,
                            "#fdca26"
                          ],
                          [
                            1,
                            "#f0f921"
                          ]
                        ],
                        "type": "surface"
                      }
                    ],
                    "table": [
                      {
                        "cells": {
                          "fill": {
                            "color": "#EBF0F8"
                          },
                          "line": {
                            "color": "white"
                          }
                        },
                        "header": {
                          "fill": {
                            "color": "#C8D4E3"
                          },
                          "line": {
                            "color": "white"
                          }
                        },
                        "type": "table"
                      }
                    ]
                  },
                  "layout": {
                    "annotationdefaults": {
                      "arrowcolor": "#2a3f5f",
                      "arrowhead": 0,
                      "arrowwidth": 1
                    },
                    "autotypenumbers": "strict",
                    "coloraxis": {
                      "colorbar": {
                        "outlinewidth": 0,
                        "ticks": ""
                      }
                    },
                    "colorscale": {
                      "diverging": [
                        [
                          0,
                          "#8e0152"
                        ],
                        [
                          0.1,
                          "#c51b7d"
                        ],
                        [
                          0.2,
                          "#de77ae"
                        ],
                        [
                          0.3,
                          "#f1b6da"
                        ],
                        [
                          0.4,
                          "#fde0ef"
                        ],
                        [
                          0.5,
                          "#f7f7f7"
                        ],
                        [
                          0.6,
                          "#e6f5d0"
                        ],
                        [
                          0.7,
                          "#b8e186"
                        ],
                        [
                          0.8,
                          "#7fbc41"
                        ],
                        [
                          0.9,
                          "#4d9221"
                        ],
                        [
                          1,
                          "#276419"
                        ]
                      ],
                      "sequential": [
                        [
                          0,
                          "#0d0887"
                        ],
                        [
                          0.1111111111111111,
                          "#46039f"
                        ],
                        [
                          0.2222222222222222,
                          "#7201a8"
                        ],
                        [
                          0.3333333333333333,
                          "#9c179e"
                        ],
                        [
                          0.4444444444444444,
                          "#bd3786"
                        ],
                        [
                          0.5555555555555556,
                          "#d8576b"
                        ],
                        [
                          0.6666666666666666,
                          "#ed7953"
                        ],
                        [
                          0.7777777777777778,
                          "#fb9f3a"
                        ],
                        [
                          0.8888888888888888,
                          "#fdca26"
                        ],
                        [
                          1,
                          "#f0f921"
                        ]
                      ],
                      "sequentialminus": [
                        [
                          0,
                          "#0d0887"
                        ],
                        [
                          0.1111111111111111,
                          "#46039f"
                        ],
                        [
                          0.2222222222222222,
                          "#7201a8"
                        ],
                        [
                          0.3333333333333333,
                          "#9c179e"
                        ],
                        [
                          0.4444444444444444,
                          "#bd3786"
                        ],
                        [
                          0.5555555555555556,
                          "#d8576b"
                        ],
                        [
                          0.6666666666666666,
                          "#ed7953"
                        ],
                        [
                          0.7777777777777778,
                          "#fb9f3a"
                        ],
                        [
                          0.8888888888888888,
                          "#fdca26"
                        ],
                        [
                          1,
                          "#f0f921"
                        ]
                      ]
                    },
                    "colorway": [
                      "#636efa",
                      "#EF553B",
                      "#00cc96",
                      "#ab63fa",
                      "#FFA15A",
                      "#19d3f3",
                      "#FF6692",
                      "#B6E880",
                      "#FF97FF",
                      "#FECB52"
                    ],
                    "font": {
                      "color": "#2a3f5f"
                    },
                    "geo": {
                      "bgcolor": "white",
                      "lakecolor": "white",
                      "landcolor": "#E5ECF6",
                      "showlakes": true,
                      "showland": true,
                      "subunitcolor": "white"
                    },
                    "hoverlabel": {
                      "align": "left"
                    },
                    "hovermode": "closest",
                    "mapbox": {
                      "style": "light"
                    },
                    "paper_bgcolor": "white",
                    "plot_bgcolor": "#E5ECF6",
                    "polar": {
                      "angularaxis": {
                        "gridcolor": "white",
                        "linecolor": "white",
                        "ticks": ""
                      },
                      "bgcolor": "#E5ECF6",
                      "radialaxis": {
                        "gridcolor": "white",
                        "linecolor": "white",
                        "ticks": ""
                      }
                    },
                    "scene": {
                      "xaxis": {
                        "backgroundcolor": "#E5ECF6",
                        "gridcolor": "white",
                        "gridwidth": 2,
                        "linecolor": "white",
                        "showbackground": true,
                        "ticks": "",
                        "zerolinecolor": "white"
                      },
                      "yaxis": {
                        "backgroundcolor": "#E5ECF6",
                        "gridcolor": "white",
                        "gridwidth": 2,
                        "linecolor": "white",
                        "showbackground": true,
                        "ticks": "",
                        "zerolinecolor": "white"
                      },
                      "zaxis": {
                        "backgroundcolor": "#E5ECF6",
                        "gridcolor": "white",
                        "gridwidth": 2,
                        "linecolor": "white",
                        "showbackground": true,
                        "ticks": "",
                        "zerolinecolor": "white"
                      }
                    },
                    "shapedefaults": {
                      "line": {
                        "color": "#2a3f5f"
                      }
                    },
                    "ternary": {
                      "aaxis": {
                        "gridcolor": "white",
                        "linecolor": "white",
                        "ticks": ""
                      },
                      "baxis": {
                        "gridcolor": "white",
                        "linecolor": "white",
                        "ticks": ""
                      },
                      "bgcolor": "#E5ECF6",
                      "caxis": {
                        "gridcolor": "white",
                        "linecolor": "white",
                        "ticks": ""
                      }
                    },
                    "title": {
                      "x": 0.05
                    },
                    "xaxis": {
                      "automargin": true,
                      "gridcolor": "white",
                      "linecolor": "white",
                      "ticks": "",
                      "title": {
                        "standoff": 15
                      },
                      "zerolinecolor": "white",
                      "zerolinewidth": 2
                    },
                    "yaxis": {
                      "automargin": true,
                      "gridcolor": "white",
                      "linecolor": "white",
                      "ticks": "",
                      "title": {
                        "standoff": 15
                      },
                      "zerolinecolor": "white",
                      "zerolinewidth": 2
                    }
                  }
                },
                "xaxis": {
                  "anchor": "y",
                  "domain": [
                    0,
                    0.26666666666666666
                  ],
                  "title": {
                    "text": "Epochs"
                  }
                },
                "xaxis2": {
                  "anchor": "y2",
                  "domain": [
                    0.3666666666666667,
                    0.6333333333333333
                  ],
                  "title": {
                    "text": "Epochs"
                  }
                },
                "xaxis3": {
                  "anchor": "y3",
                  "domain": [
                    0.7333333333333334,
                    1
                  ],
                  "title": {
                    "text": "Epochs"
                  }
                },
                "yaxis": {
                  "anchor": "x",
                  "domain": [
                    0,
                    1
                  ],
                  "title": {
                    "text": "Training Loss"
                  }
                },
                "yaxis2": {
                  "anchor": "x2",
                  "domain": [
                    0,
                    1
                  ],
                  "title": {
                    "text": "Training Loss"
                  }
                },
                "yaxis3": {
                  "anchor": "x3",
                  "domain": [
                    0,
                    1
                  ],
                  "title": {
                    "text": "Training Loss"
                  }
                }
              }
            }
          },
          "metadata": {},
          "output_type": "display_data"
        }
      ],
      "source": [
        "fig = make_subplots(rows=1, cols=3, shared_yaxes=False, shared_xaxes=True, horizontal_spacing=0.1, vertical_spacing=0.1)\n",
        "\n",
        "for idx in range(len(noise_training_loss_arr)):\n",
        "    fig.add_scatter(\n",
        "        x=np.arange(TRAINING_RUNS), y=noise_training_loss_arr[idx],\n",
        "        col=idx+1, row=1, name = \"Training Loss\", line=dict(color='red'),\n",
        "    )\n",
        "    fig.add_scatter(\n",
        "        x=np.arange(TRAINING_RUNS), y=noise_validation_loss_arr[idx],\n",
        "        col=idx+1, row=1, name = \"Validation Loss\", line=dict(color='green')\n",
        "    )\n",
        "    fig.update_xaxes(title_text='Epochs', row=1, col=idx+1)\n",
        "    fig.update_yaxes(title_text='Training Loss', row=1, col=idx+1)\n",
        "\n",
        "fig.show()"
      ]
    },
    {
      "cell_type": "markdown",
      "metadata": {
        "id": "BLkkTsGQrYZq"
      },
      "source": [
        "One training run is enough to get good test score accuracy, however training loss is still high. I guess it knows the right answer after a single epoch but it is still unsure?"
      ]
    }
  ],
  "metadata": {
    "accelerator": "GPU",
    "colab": {
      "provenance": []
    },
    "gpuClass": "standard",
    "interpreter": {
      "hash": "f59ef49e738fb3c4415b7718da7995bff3ea929ace96d22cb5fa9ff2453b09e7"
    },
    "kernelspec": {
      "display_name": "Python 3.8.12 ('Dissertation')",
      "language": "python",
      "name": "python3"
    },
    "language_info": {
      "codemirror_mode": {
        "name": "ipython",
        "version": 3
      },
      "file_extension": ".py",
      "mimetype": "text/x-python",
      "name": "python",
      "nbconvert_exporter": "python",
      "pygments_lexer": "ipython3",
      "version": "3.8.12"
    },
    "orig_nbformat": 4,
    "vscode": {
      "interpreter": {
        "hash": "ff87dbf42c9199796f315001a4590a6a5b463d121b2767c3ff75ede187152b04"
      }
    }
  },
  "nbformat": 4,
  "nbformat_minor": 0
}
