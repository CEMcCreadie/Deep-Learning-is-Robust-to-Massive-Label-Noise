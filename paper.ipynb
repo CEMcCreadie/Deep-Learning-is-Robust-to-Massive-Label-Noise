{
  "cells": [
    {
      "cell_type": "code",
      "execution_count": 13,
      "metadata": {
        "id": "MSIc37sVRd-G"
      },
      "outputs": [],
      "source": [
        "import torch\n",
        "import torchvision\n",
        "import torch.nn as nn\n",
        "import torch.nn.functional as F\n",
        "import numpy as np\n",
        "import matplotlib.pyplot as plt\n",
        "import gc"
      ]
    },
    {
      "cell_type": "markdown",
      "metadata": {
        "id": "DljoANWURd-I"
      },
      "source": [
        "<h2>CNN-4 Model</h2>\n",
        "\n",
        "Tradeoff between getting High performing model and trying to keep it as 'natural' as possible to make analysis later easier."
      ]
    },
    {
      "cell_type": "code",
      "execution_count": 14,
      "metadata": {
        "id": "0hwEYon4Rd-J"
      },
      "outputs": [],
      "source": [
        "class CNN4(nn.Module):\n",
        "\n",
        "    def __init__(self) -> None:\n",
        "        super().__init__()\n",
        "        self.num_conv = 32\n",
        "        self.conv_layers = nn.Sequential(\n",
        "         nn.Conv2d(1,self.num_conv, kernel_size=3, stride=1, padding=1, bias = False),\n",
        "         nn.MaxPool2d(2,2),\n",
        "         nn.Conv2d(self.num_conv,self.num_conv, kernel_size=3, stride=1, padding=1, bias = False),\n",
        "         nn.Conv2d(self.num_conv,self.num_conv, kernel_size=3, stride=1, padding=1, bias = False),\n",
        "         nn.MaxPool2d(2,2),\n",
        "         nn.Conv2d(self.num_conv,self.num_conv, kernel_size=3, stride=1, padding=1, bias = False),\n",
        "        )\n",
        "        # 28 * 28 (Image) * num_conv * (0.5^(number of max pools*n_dim))\n",
        "        self.final_image_size = 7 * 7 * self.num_conv \n",
        "        self.fc1 = nn.Linear(self.final_image_size, 64)\n",
        "        self.fc2 = nn.Linear(64, 10)\n",
        "\n",
        "    def forward(self, x):\n",
        "        x = self.conv_layers(x)\n",
        "        x = x.view(-1, self.final_image_size) \n",
        "        x = F.gelu(self.fc1(x))\n",
        "        x = F.gelu(self.fc2(x))\n",
        "        return x "
      ]
    },
    {
      "cell_type": "code",
      "execution_count": 15,
      "metadata": {
        "id": "oH1gbwMLRd-J"
      },
      "outputs": [],
      "source": [
        "BATCH_SIZE = 32\n",
        "t = torchvision.transforms.Compose([\n",
        "                       torchvision.transforms.ToTensor(),\n",
        "                       torchvision.transforms.Normalize(mean=(0), std=(1))]\n",
        "                       ) \n",
        "train_data = torchvision.datasets.MNIST('/data/mnist', download=True, train=True, transform=t)\n",
        "#Can be used to speed up training \n",
        "#train_data_sub = torch.utils.data.Subset(train_data, range(0,128))\n",
        "train_loader = torch.utils.data.DataLoader( train_data, \n",
        "                batch_size=BATCH_SIZE, drop_last=True, shuffle=True)\n",
        "test_loader = torch.utils.data.DataLoader( torchvision.datasets.MNIST('/data/mnist', download=True, train=False, transform=t), \n",
        "                batch_size=BATCH_SIZE, drop_last=True, shuffle=True)"
      ]
    },
    {
      "cell_type": "markdown",
      "metadata": {
        "id": "XZt-X0v3Rd-K"
      },
      "source": [
        "<h2>Training</h2>"
      ]
    },
    {
      "cell_type": "code",
      "source": [
        "print(torch.cuda.device_count())\n",
        "print(torch.cuda.get_device_name(0))"
      ],
      "metadata": {
        "colab": {
          "base_uri": "https://localhost:8080/"
        },
        "id": "lDsPCeeWTeKw",
        "outputId": "f19c9c1c-59f1-4162-f9ac-9d871609bf83"
      },
      "execution_count": 16,
      "outputs": [
        {
          "output_type": "stream",
          "name": "stdout",
          "text": [
            "1\n",
            "Tesla T4\n"
          ]
        }
      ]
    },
    {
      "cell_type": "code",
      "source": [
        "LEARNING_RATE = 1e-4\n",
        "device = torch.device(\"cuda:0\")\n",
        "loss_fn = nn.CrossEntropyLoss()\n",
        "\n",
        "def training_loop(model, n_epochs, data_loader):\n",
        "    optimizer = torch.optim.Adam(model.parameters(),lr=LEARNING_RATE)\n",
        "    model.train()\n",
        "    training_loss = []\n",
        "    for epoch in range(n_epochs): \n",
        "        running_loss = 0.0\n",
        "        for i, data in enumerate(data_loader, 0):\n",
        "            # get the inputs; data is a list of [inputs, labels]\n",
        "            inputs, labels = data[0].to(device), data[1].to(device)\n",
        "    \n",
        "            # zero the parameter gradients\n",
        "            optimizer.zero_grad()\n",
        "    \n",
        "            # forward + backward + optimize\n",
        "            outputs = model(inputs)\n",
        "            loss = loss_fn(outputs, labels)\n",
        "            loss.backward()\n",
        "            optimizer.step()\n",
        "    \n",
        "            # print statistics\n",
        "            running_loss += loss.item()\n",
        "        training_loss.append(running_loss/len(data_loader))\n",
        "    \n",
        "    print('Finished Training')\n",
        "    return training_loss\n",
        "\n",
        "def model_eval(model):\n",
        "    correct = 0\n",
        "    total = 0\n",
        "    # since we're not training, we don't need to calculate the gradients for our outputs\n",
        "    with torch.no_grad():\n",
        "        for data in test_loader:\n",
        "            inputs, labels = data[0].to(device), data[1].to(device)\n",
        "            outputs = model(inputs)\n",
        "            _, predicted = torch.max(outputs.data, 1)\n",
        "            total += labels.size(0)\n",
        "            correct += (predicted == labels).sum().item()\n",
        "    \n",
        "    print(f'Accuracy of the network on the 10000 test images: {100 * correct // total} %')\n",
        "    return 100 * correct // total"
      ],
      "metadata": {
        "id": "qlLjK2kQSmjn"
      },
      "execution_count": 17,
      "outputs": []
    },
    {
      "cell_type": "markdown",
      "metadata": {
        "id": "W4mF_Bg9Rd-L"
      },
      "source": [
        "<h2>Changing labels</h2>"
      ]
    },
    {
      "cell_type": "code",
      "execution_count": 18,
      "metadata": {
        "id": "SN6-YYUORd-L"
      },
      "outputs": [],
      "source": [
        "# noise = 0.99 #Roughly 100 noisy labels for every one 'good label'\n",
        "def generate_noise(noise=0.99):\n",
        "  noise_labels = np.array(train_data.targets)\n",
        "  for (i, label) in enumerate(noise_labels):\n",
        "    if(np.random.uniform() < noise):\n",
        "      noise_labels[i] = np.round(np.random.uniform(0, 9.0))\n",
        "  \n",
        "  noise_labels = torch.from_numpy(noise_labels)\n",
        "  \n",
        "  train_data_noise = torchvision.datasets.MNIST('/data/mnist', download=True, train=True, transform=t)\n",
        "  train_data_noise.targets = noise_labels\n",
        "  train_loader_noise = torch.utils.data.DataLoader( train_data_noise, \n",
        "                  batch_size=BATCH_SIZE, drop_last=True, shuffle=True)\n",
        "  \n",
        "  print(train_data.targets)\n",
        "  print(train_data_noise.targets)\n",
        "  return train_loader_noise"
      ]
    },
    {
      "cell_type": "markdown",
      "source": [
        "<h1>Experiment</h1>\n"
      ],
      "metadata": {
        "id": "A4xcUxg8T1DV"
      }
    },
    {
      "cell_type": "code",
      "source": [
        "model = CNN4().to(device)\n",
        "training_loss = training_loop(model, 5, train_loader) #Model is updated inplace\n",
        "model_eval(model)\n",
        "plt.plot(training_loss)"
      ],
      "metadata": {
        "colab": {
          "base_uri": "https://localhost:8080/",
          "height": 321
        },
        "id": "o6Ol_vAiT0bh",
        "outputId": "44edc1df-e1f4-4c21-87f2-9d6994ded2ea"
      },
      "execution_count": 19,
      "outputs": [
        {
          "output_type": "stream",
          "name": "stdout",
          "text": [
            "Finished Training\n",
            "Accuracy of the network on the 10000 test images: 98 %\n"
          ]
        },
        {
          "output_type": "execute_result",
          "data": {
            "text/plain": [
              "[<matplotlib.lines.Line2D at 0x7f13dd9b7c10>]"
            ]
          },
          "metadata": {},
          "execution_count": 19
        },
        {
          "output_type": "display_data",
          "data": {
            "text/plain": [
              "<Figure size 432x288 with 1 Axes>"
            ],
            "image/png": "[encoded data removed]"
          },
          "metadata": {
            "needs_background": "light"
          }
        }
      ]
    },
    {
      "cell_type": "markdown",
      "source": [
        "perhaps longer training time is the trick here ?"
      ],
      "metadata": {
        "id": "CcSjGDMc24Xi"
      }
    },
    {
      "cell_type": "code",
      "source": [
        "noise = [0.1, 0.5, 0.99]\n",
        "accuracy = []\n",
        "noise_training_loss_arr = []\n",
        "for n in noise:\n",
        "  model_noise = CNN4().to(device)\n",
        "  noise_training_loss = training_loop(model_noise, 5, generate_noise(n))\n",
        "  noise_training_loss_arr.append(noise_training_loss)\n",
        "  accuracy.append(model_eval(model_noise))"
      ],
      "metadata": {
        "colab": {
          "base_uri": "https://localhost:8080/"
        },
        "id": "mZHWY-gXbxPL",
        "outputId": "7ae818d7-0279-4d3c-e9df-491c39f8337d"
      },
      "execution_count": 20,
      "outputs": [
        {
          "output_type": "stream",
          "name": "stdout",
          "text": [
            "tensor([5, 0, 4,  ..., 5, 6, 8])\n",
            "tensor([5, 0, 4,  ..., 5, 6, 8])\n",
            "Finished Training\n",
            "Accuracy of the network on the 10000 test images: 98 %\n",
            "tensor([5, 0, 4,  ..., 5, 6, 8])\n",
            "tensor([5, 0, 5,  ..., 5, 6, 5])\n",
            "Finished Training\n",
            "Accuracy of the network on the 10000 test images: 97 %\n",
            "tensor([5, 0, 4,  ..., 5, 6, 8])\n",
            "tensor([5, 9, 8,  ..., 7, 2, 5])\n",
            "Finished Training\n",
            "Accuracy of the network on the 10000 test images: 25 %\n"
          ]
        }
      ]
    },
    {
      "cell_type": "code",
      "source": [
        "accuracy"
      ],
      "metadata": {
        "colab": {
          "base_uri": "https://localhost:8080/"
        },
        "id": "vFLoCj-r3q9c",
        "outputId": "14929fa7-d3d6-4dd2-e94c-0ee5460c76b8"
      },
      "execution_count": 21,
      "outputs": [
        {
          "output_type": "execute_result",
          "data": {
            "text/plain": [
              "[98, 97, 25]"
            ]
          },
          "metadata": {},
          "execution_count": 21
        }
      ]
    },
    {
      "cell_type": "code",
      "source": [
        "plt.xlabel(\"Epochs\")\n",
        "plt.ylabel(\"Cross Entropy Loss\")\n",
        "for x in noise_training_loss_arr:\n",
        "  plt.plot(x)"
      ],
      "metadata": {
        "colab": {
          "base_uri": "https://localhost:8080/",
          "height": 279
        },
        "id": "Vtt2ueP91-gp",
        "outputId": "14e09a53-bd7d-4d4d-d752-4c7c98ed03cc"
      },
      "execution_count": 23,
      "outputs": [
        {
          "output_type": "display_data",
          "data": {
            "text/plain": [
              "<Figure size 432x288 with 1 Axes>"
            ],
            "image/png": "[encoded data removed]"
          },
          "metadata": {
            "needs_background": "light"
          }
        }
      ]
    },
    {
      "cell_type": "markdown",
      "source": [
        "One training run is enough to get good test score accuracy, however training loss is still high. I guess it knows the right answer after a single epoch but it is still unsure?"
      ],
      "metadata": {
        "id": "BLkkTsGQrYZq"
      }
    }
  ],
  "metadata": {
    "kernelspec": {
      "display_name": "m1torch",
      "language": "python",
      "name": "python3"
    },
    "language_info": {
      "codemirror_mode": {
        "name": "ipython",
        "version": 3
      },
      "file_extension": ".py",
      "mimetype": "text/x-python",
      "name": "python",
      "nbconvert_exporter": "python",
      "pygments_lexer": "ipython3",
      "version": "3.9.15"
    },
    "orig_nbformat": 4,
    "vscode": {
      "interpreter": {
        "hash": "ff87dbf42c9199796f315001a4590a6a5b463d121b2767c3ff75ede187152b04"
      }
    },
    "colab": {
      "provenance": []
    },
    "accelerator": "GPU",
    "gpuClass": "standard"
  },
  "nbformat": 4,
  "nbformat_minor": 0
}